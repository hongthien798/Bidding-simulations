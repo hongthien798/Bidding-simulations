{
 "cells": [
  {
   "cell_type": "markdown",
   "id": "64f63988",
   "metadata": {},
   "source": [
    "### Install packages"
   ]
  },
  {
   "cell_type": "code",
   "execution_count": 1,
   "id": "52d123f7",
   "metadata": {},
   "outputs": [],
   "source": [
    "import numpy as np  # for random number generation\n",
    "import scipy.stats as ss  # for calculating confidence intervals\n",
    "import math as math\n",
    "import matplotlib.pyplot as plt\n",
    "import pandas as pd\n",
    "import time\n",
    "from tqdm import tqdm"
   ]
  },
  {
   "cell_type": "markdown",
   "id": "c8f9201d",
   "metadata": {},
   "source": [
    "### Model parameters"
   ]
  },
  {
   "cell_type": "code",
   "execution_count": 2,
   "id": "6866c485",
   "metadata": {},
   "outputs": [],
   "source": [
    "min_bid_cost = 10000\n",
    "max_bid_cost = 20000\n",
    "mode_bid_cost = 15000\n",
    "\n",
    "min_pj_cost = 900000\n",
    "max_pj_cost = 1100000\n",
    "mode_pj_cost = 1000000\n",
    "\n",
    "min_rival_bid = 900000\n",
    "max_rival_bid = 1800000\n",
    "mode_rival_bid = 1300000\n",
    "\n",
    "n_rival, p_rival = 2, 0.5"
   ]
  },
  {
   "cell_type": "markdown",
   "id": "17dbf669",
   "metadata": {},
   "source": [
    "### For one price"
   ]
  },
  {
   "cell_type": "code",
   "execution_count": 3,
   "id": "d84671fd",
   "metadata": {},
   "outputs": [],
   "source": [
    "price = 1100000\n",
    "num_replications = 10000"
   ]
  },
  {
   "cell_type": "code",
   "execution_count": 4,
   "id": "3d45a338",
   "metadata": {},
   "outputs": [],
   "source": [
    "np.random.seed(2)\n",
    "cost_list = []\n",
    "market_bid_list = []\n",
    "win_list = []\n",
    "profit_list = []\n",
    "\n",
    "for i in range(num_replications):\n",
    "    \n",
    "    #use triangular distribution for bid cost\n",
    "    bid_cost = np.random.triangular(min_bid_cost, mode_bid_cost, max_bid_cost, 1)\n",
    "\n",
    "    #use triangular distribution for project cost\n",
    "    pj_cost = np.random.triangular(min_pj_cost, mode_pj_cost, max_pj_cost, 1)\n",
    "    \n",
    "    # market conditions\n",
    "    num_rival = np.random.binomial(n_rival,p_rival) + 1\n",
    "    mkt_bid = min(np.random.triangular(min_rival_bid, mode_rival_bid, max_rival_bid, num_rival))\n",
    "    \n",
    "    # win or not \n",
    "    win = 0\n",
    "    if price < mkt_bid:\n",
    "        win = win + 1\n",
    "        total_cost = float(bid_cost + pj_cost)\n",
    "        profit = price - total_cost\n",
    "    else: \n",
    "        total_cost = float(bid_cost)\n",
    "        profit = - total_cost\n",
    "    \n",
    "    cost_list.append(total_cost)\n",
    "    market_bid_list.append(mkt_bid)\n",
    "    win_list.append(win)\n",
    "    profit_list.append(profit)\n",
    "    "
   ]
  },
  {
   "cell_type": "code",
   "execution_count": 5,
   "id": "b56a8c34",
   "metadata": {},
   "outputs": [
    {
     "data": {
      "text/plain": [
       "809283.0314866848"
      ]
     },
     "execution_count": 5,
     "metadata": {},
     "output_type": "execute_result"
    }
   ],
   "source": [
    "np.average(cost_list)"
   ]
  },
  {
   "cell_type": "code",
   "execution_count": 6,
   "id": "cb14df99",
   "metadata": {},
   "outputs": [
    {
     "data": {
      "text/plain": [
       "(array([2058.,    0.,    0.,    0.,    0.,    0.,    0.,    0., 3107.,\n",
       "        4835.]),\n",
       " array([  10261.4985954 ,  120630.46226087,  230999.42592634,\n",
       "         341368.38959181,  451737.35325729,  562106.31692276,\n",
       "         672475.28058823,  782844.2442537 ,  893213.20791917,\n",
       "        1003582.17158464, 1113951.13525011]),\n",
       " <BarContainer object of 10 artists>)"
      ]
     },
     "execution_count": 6,
     "metadata": {},
     "output_type": "execute_result"
    },
    {
     "data": {
      "image/png": "[encoded data removed]",
      "text/plain": [
       "<Figure size 432x288 with 1 Axes>"
      ]
     },
     "metadata": {
      "needs_background": "light"
     },
     "output_type": "display_data"
    }
   ],
   "source": [
    "plt.hist(cost_list)"
   ]
  },
  {
   "cell_type": "code",
   "execution_count": 7,
   "id": "e8234f1d",
   "metadata": {},
   "outputs": [
    {
     "data": {
      "text/plain": [
       "1243084.13843003"
      ]
     },
     "execution_count": 7,
     "metadata": {},
     "output_type": "execute_result"
    }
   ],
   "source": [
    "np.average(market_bid_list)"
   ]
  },
  {
   "cell_type": "code",
   "execution_count": 8,
   "id": "29820bdc",
   "metadata": {},
   "outputs": [
    {
     "data": {
      "text/plain": [
       "(array([ 483., 1246., 1786., 2145., 1895., 1183.,  683.,  349.,  177.,\n",
       "          53.]),\n",
       " array([ 905558.26636206,  993976.59969293, 1082394.93302381,\n",
       "        1170813.26635468, 1259231.59968555, 1347649.93301643,\n",
       "        1436068.2663473 , 1524486.59967818, 1612904.93300905,\n",
       "        1701323.26633993, 1789741.5996708 ]),\n",
       " <BarContainer object of 10 artists>)"
      ]
     },
     "execution_count": 8,
     "metadata": {},
     "output_type": "execute_result"
    },
    {
     "data": {
      "image/png": "[encoded data removed]",
      "text/plain": [
       "<Figure size 432x288 with 1 Axes>"
      ]
     },
     "metadata": {
      "needs_background": "light"
     },
     "output_type": "display_data"
    }
   ],
   "source": [
    "plt.hist(market_bid_list)"
   ]
  },
  {
   "cell_type": "code",
   "execution_count": 9,
   "id": "6c77bce3",
   "metadata": {},
   "outputs": [
    {
     "data": {
      "text/plain": [
       "0.7942"
      ]
     },
     "execution_count": 9,
     "metadata": {},
     "output_type": "execute_result"
    }
   ],
   "source": [
    "np.average(win_list)"
   ]
  },
  {
   "cell_type": "code",
   "execution_count": 10,
   "id": "de9dbb36",
   "metadata": {},
   "outputs": [
    {
     "data": {
      "text/plain": [
       "(array([2058.,    0.,    0.,    0.,    0.,    0.,    0.,    0.,    0.,\n",
       "        7942.]),\n",
       " array([0. , 0.1, 0.2, 0.3, 0.4, 0.5, 0.6, 0.7, 0.8, 0.9, 1. ]),\n",
       " <BarContainer object of 10 artists>)"
      ]
     },
     "execution_count": 10,
     "metadata": {},
     "output_type": "execute_result"
    },
    {
     "data": {
      "image/png": "[encoded data removed]",
      "text/plain": [
       "<Figure size 432x288 with 1 Axes>"
      ]
     },
     "metadata": {
      "needs_background": "light"
     },
     "output_type": "display_data"
    }
   ],
   "source": [
    "plt.hist(win_list)"
   ]
  },
  {
   "cell_type": "code",
   "execution_count": 11,
   "id": "94e42cd8",
   "metadata": {},
   "outputs": [
    {
     "data": {
      "text/plain": [
       "64336.96851331518"
      ]
     },
     "execution_count": 11,
     "metadata": {},
     "output_type": "execute_result"
    }
   ],
   "source": [
    "np.average(profit_list)"
   ]
  },
  {
   "cell_type": "code",
   "execution_count": 12,
   "id": "094998a2",
   "metadata": {},
   "outputs": [
    {
     "data": {
      "text/plain": [
       "(array([2137.,  446.,  762., 1067., 1407., 1507., 1148.,  835.,  532.,\n",
       "         159.]),\n",
       " array([-19936.48290934,    513.45901555,  20963.40094044,  41413.34286533,\n",
       "         61863.28479022,  82313.22671511, 102763.16864   , 123213.11056489,\n",
       "        143663.05248978, 164112.99441467, 184562.93633956]),\n",
       " <BarContainer object of 10 artists>)"
      ]
     },
     "execution_count": 12,
     "metadata": {},
     "output_type": "execute_result"
    },
    {
     "data": {
      "image/png": "[encoded data removed]",
      "text/plain": [
       "<Figure size 432x288 with 1 Axes>"
      ]
     },
     "metadata": {
      "needs_background": "light"
     },
     "output_type": "display_data"
    }
   ],
   "source": [
    "plt.hist(profit_list)"
   ]
  },
  {
   "cell_type": "code",
   "execution_count": null,
   "id": "9bb498a1",
   "metadata": {},
   "outputs": [],
   "source": []
  },
  {
   "cell_type": "markdown",
   "id": "81a06206",
   "metadata": {},
   "source": [
    "### For different prices"
   ]
  },
  {
   "cell_type": "code",
   "execution_count": 13,
   "id": "622e0c86",
   "metadata": {},
   "outputs": [],
   "source": [
    "lower_bid = 850000\n",
    "upper_bid = 1900000\n",
    "search_step = 1000"
   ]
  },
  {
   "cell_type": "code",
   "execution_count": 14,
   "id": "ac9c579a",
   "metadata": {},
   "outputs": [],
   "source": [
    "np.random.seed(2)\n",
    "average_cost_list = []\n",
    "average_market_bid_list = []\n",
    "average_win_list = []\n",
    "average_profit_list = []\n",
    "std_profit_list = []\n",
    "price_list = []\n",
    "\n",
    "for price in range(lower_bid,upper_bid,search_step):\n",
    "\n",
    "    cost_list = []\n",
    "    market_bid_list = []\n",
    "    win_list = []\n",
    "    profit_list = []\n",
    "\n",
    "    for i in range(num_replications):\n",
    "\n",
    "        #use triangular distribution for bid cost\n",
    "        bid_cost = np.random.triangular(min_bid_cost, mode_bid_cost, max_bid_cost, 1)\n",
    "\n",
    "        #use triangular distribution for project cost\n",
    "        pj_cost = np.random.triangular(min_pj_cost, mode_pj_cost, max_pj_cost, 1)\n",
    "\n",
    "        # market conditions\n",
    "        num_rival = np.random.binomial(n_rival,p_rival) + 1\n",
    "        mkt_bid = min(np.random.triangular(min_rival_bid, mode_rival_bid, max_rival_bid, num_rival))\n",
    "\n",
    "        # win or not \n",
    "        if price < mkt_bid:\n",
    "            win = 1\n",
    "            total_cost = float(bid_cost + pj_cost*win)\n",
    "            profit = price*win - total_cost\n",
    "        else: \n",
    "            win = 0\n",
    "            total_cost = float(bid_cost + pj_cost*win)\n",
    "            profit = price*win - total_cost\n",
    "\n",
    "        cost_list.append(total_cost)\n",
    "        market_bid_list.append(mkt_bid)\n",
    "        win_list.append(win)\n",
    "        profit_list.append(profit)\n",
    "        \n",
    "        #end for num_rep\n",
    "        \n",
    "    price_list.append(price)\n",
    "    average_cost_list.append(np.average(cost_list))\n",
    "    average_market_bid_list.append(np.average(market_bid_list))\n",
    "    average_win_list.append(np.average(win_list))\n",
    "    average_profit_list.append(np.average(profit_list))\n",
    "    std_profit_list.append(np.std(profit_list))\n",
    "    \n",
    "    \n",
    "    "
   ]
  },
  {
   "cell_type": "code",
   "execution_count": 15,
   "id": "7767089f",
   "metadata": {},
   "outputs": [
    {
     "data": {
      "text/plain": [
       "(array([438.,  88.,  57.,  43.,  42.,  43.,  43.,  49.,  59., 188.]),\n",
       " array([  14939.67930138,  115042.88425931,  215146.08921724,\n",
       "         315249.29417517,  415352.49913309,  515455.70409102,\n",
       "         615558.90904895,  715662.11400688,  815765.31896481,\n",
       "         915868.52392273, 1015971.72888066]),\n",
       " <BarContainer object of 10 artists>)"
      ]
     },
     "execution_count": 15,
     "metadata": {},
     "output_type": "execute_result"
    },
    {
     "data": {
      "image/png": "[encoded data removed]",
      "text/plain": [
       "<Figure size 432x288 with 1 Axes>"
      ]
     },
     "metadata": {
      "needs_background": "light"
     },
     "output_type": "display_data"
    }
   ],
   "source": [
    "plt.hist(average_cost_list)"
   ]
  },
  {
   "cell_type": "code",
   "execution_count": 16,
   "id": "5e164ab5",
   "metadata": {},
   "outputs": [
    {
     "data": {
      "text/plain": [
       "(array([  6.,  25.,  53., 129., 235., 244., 187., 103.,  56.,  12.]),\n",
       " array([1236696.99009736, 1237638.33213073, 1238579.67416411,\n",
       "        1239521.01619748, 1240462.35823085, 1241403.70026423,\n",
       "        1242345.0422976 , 1243286.38433097, 1244227.72636435,\n",
       "        1245169.06839772, 1246110.41043109]),\n",
       " <BarContainer object of 10 artists>)"
      ]
     },
     "execution_count": 16,
     "metadata": {},
     "output_type": "execute_result"
    },
    {
     "data": {
      "image/png": "[encoded data removed]",
      "text/plain": [
       "<Figure size 432x288 with 1 Axes>"
      ]
     },
     "metadata": {
      "needs_background": "light"
     },
     "output_type": "display_data"
    }
   ],
   "source": [
    "plt.hist(average_market_bid_list)"
   ]
  },
  {
   "cell_type": "code",
   "execution_count": 17,
   "id": "a660232c",
   "metadata": {},
   "outputs": [
    {
     "data": {
      "text/plain": [
       "(array([438.,  88.,  57.,  43.,  42.,  43.,  42.,  49.,  60., 188.]),\n",
       " array([0. , 0.1, 0.2, 0.3, 0.4, 0.5, 0.6, 0.7, 0.8, 0.9, 1. ]),\n",
       " <BarContainer object of 10 artists>)"
      ]
     },
     "execution_count": 17,
     "metadata": {},
     "output_type": "execute_result"
    },
    {
     "data": {
      "image/png": "[encoded data removed]",
      "text/plain": [
       "<Figure size 432x288 with 1 Axes>"
      ]
     },
     "metadata": {
      "needs_background": "light"
     },
     "output_type": "display_data"
    }
   ],
   "source": [
    "plt.hist(average_win_list)"
   ]
  },
  {
   "cell_type": "code",
   "execution_count": 18,
   "id": "a7a3b91b",
   "metadata": {},
   "outputs": [
    {
     "data": {
      "text/plain": [
       "(array([ 27.,  27.,  26.,  27.,  26., 291., 172., 127., 121., 206.]),\n",
       " array([-165133.65294036, -138337.59112094, -111541.52930152,\n",
       "         -84745.46748211,  -57949.40566269,  -31153.34384328,\n",
       "          -4357.28202386,   22438.77979555,   49234.84161497,\n",
       "          76030.90343438,  102826.9652538 ]),\n",
       " <BarContainer object of 10 artists>)"
      ]
     },
     "execution_count": 18,
     "metadata": {},
     "output_type": "execute_result"
    },
    {
     "data": {
      "image/png": "[encoded data removed]",
      "text/plain": [
       "<Figure size 432x288 with 1 Axes>"
      ]
     },
     "metadata": {
      "needs_background": "light"
     },
     "output_type": "display_data"
    }
   ],
   "source": [
    "plt.hist(average_profit_list)"
   ]
  },
  {
   "cell_type": "code",
   "execution_count": 19,
   "id": "60af1645",
   "metadata": {},
   "outputs": [
    {
     "data": {
      "text/plain": [
       "(array([132.,  28., 253.,  76.,  64.,  63.,  68.,  79.,  96., 191.]),\n",
       " array([  2010.62090858,  17060.22955596,  32109.83820333,  47159.44685071,\n",
       "         62209.05549809,  77258.66414546,  92308.27279284, 107357.88144022,\n",
       "        122407.49008759, 137457.09873497, 152506.70738235]),\n",
       " <BarContainer object of 10 artists>)"
      ]
     },
     "execution_count": 19,
     "metadata": {},
     "output_type": "execute_result"
    },
    {
     "data": {
      "image/png": "[encoded data removed]",
      "text/plain": [
       "<Figure size 432x288 with 1 Axes>"
      ]
     },
     "metadata": {
      "needs_background": "light"
     },
     "output_type": "display_data"
    }
   ],
   "source": [
    "plt.hist(std_profit_list)"
   ]
  },
  {
   "cell_type": "code",
   "execution_count": 20,
   "id": "ebe64084",
   "metadata": {},
   "outputs": [
    {
     "data": {
      "text/plain": [
       "(array([105., 105., 105., 105., 105., 105., 105., 105., 105., 105.]),\n",
       " array([ 850000.,  954900., 1059800., 1164700., 1269600., 1374500.,\n",
       "        1479400., 1584300., 1689200., 1794100., 1899000.]),\n",
       " <BarContainer object of 10 artists>)"
      ]
     },
     "execution_count": 20,
     "metadata": {},
     "output_type": "execute_result"
    },
    {
     "data": {
      "image/png": "[encoded data removed]",
      "text/plain": [
       "<Figure size 432x288 with 1 Axes>"
      ]
     },
     "metadata": {
      "needs_background": "light"
     },
     "output_type": "display_data"
    }
   ],
   "source": [
    "plt.hist(price_list)"
   ]
  },
  {
   "cell_type": "code",
   "execution_count": 21,
   "id": "e44f64e0",
   "metadata": {},
   "outputs": [
    {
     "name": "stderr",
     "output_type": "stream",
     "text": [
      "/var/folders/yt/b9xrr1x953g19fj3s6yzr4tm0000gn/T/ipykernel_4913/757377094.py:3: UserWarning: color is redundantly defined by the 'color' keyword argument and the fmt string \"r\" (-> color=(1.0, 0.0, 0.0, 1)). The keyword argument will take precedence.\n",
      "  plt.plot(price_list, average_win_list, 'r', color = 'blue')\n"
     ]
    },
    {
     "data": {
      "image/png": "[encoded data removed]",
      "text/plain": [
       "<Figure size 432x288 with 1 Axes>"
      ]
     },
     "metadata": {
      "needs_background": "light"
     },
     "output_type": "display_data"
    }
   ],
   "source": [
    "plt.clf()\n",
    "\n",
    "plt.plot(price_list, average_win_list, 'r', color = 'blue')\n",
    "\n",
    "plt.title('Chances of Winning the Bid vs Bidding Price')\n",
    "plt.xlabel('Bidding Price (in million dollars) ')\n",
    "plt.ylabel('Probability of Winning the Bid')\n",
    "plt.show()"
   ]
  },
  {
   "cell_type": "code",
   "execution_count": 22,
   "id": "05d9b0e1",
   "metadata": {},
   "outputs": [
    {
     "name": "stderr",
     "output_type": "stream",
     "text": [
      "/var/folders/yt/b9xrr1x953g19fj3s6yzr4tm0000gn/T/ipykernel_4913/3737715193.py:3: UserWarning: color is redundantly defined by the 'color' keyword argument and the fmt string \"r\" (-> color=(1.0, 0.0, 0.0, 1)). The keyword argument will take precedence.\n",
      "  plt.plot(price_list, average_profit_list, 'r', color = 'blue')\n"
     ]
    },
    {
     "data": {
      "image/png": "[encoded data removed]",
      "text/plain": [
       "<Figure size 432x288 with 1 Axes>"
      ]
     },
     "metadata": {
      "needs_background": "light"
     },
     "output_type": "display_data"
    }
   ],
   "source": [
    "plt.clf()\n",
    "\n",
    "plt.plot(price_list, average_profit_list, 'r', color = 'blue')\n",
    "\n",
    "plt.axhline(y=0, color='black', linestyle='--')\n",
    "\n",
    "plt.xlim(850000,1900000)\n",
    "#plt.ylim(-300000,120000)\n",
    "\n",
    "plt.title('Average Profit vs Bidding Price')\n",
    "plt.xlabel('Bidding Price (in million dollars) ')\n",
    "plt.ylabel('Average Profit (in $)')\n",
    "\n",
    "plt.show()"
   ]
  },
  {
   "cell_type": "code",
   "execution_count": 23,
   "id": "6c4f9e00",
   "metadata": {},
   "outputs": [
    {
     "name": "stderr",
     "output_type": "stream",
     "text": [
      "/var/folders/yt/b9xrr1x953g19fj3s6yzr4tm0000gn/T/ipykernel_4913/3516659117.py:3: UserWarning: color is redundantly defined by the 'color' keyword argument and the fmt string \"r\" (-> color=(1.0, 0.0, 0.0, 1)). The keyword argument will take precedence.\n",
      "  plt.plot(average_profit_list, average_win_list, 'r', color = 'blue')\n"
     ]
    },
    {
     "data": {
      "image/png": "[encoded data removed]",
      "text/plain": [
       "<Figure size 432x288 with 1 Axes>"
      ]
     },
     "metadata": {
      "needs_background": "light"
     },
     "output_type": "display_data"
    }
   ],
   "source": [
    "plt.clf()\n",
    "\n",
    "plt.plot(average_profit_list, average_win_list, 'r', color = 'blue')\n",
    "\n",
    "plt.axhline(y=0, color='black', linestyle='--')\n",
    "\n",
    "plt.title('Chances of winning vs Average Profit')\n",
    "plt.xlabel('Average Profit (in million dollars) ')\n",
    "plt.ylabel('Chances of winning')\n",
    "\n",
    "plt.show()"
   ]
  },
  {
   "cell_type": "code",
   "execution_count": 24,
   "id": "884b0c9c",
   "metadata": {},
   "outputs": [
    {
     "name": "stderr",
     "output_type": "stream",
     "text": [
      "/var/folders/yt/b9xrr1x953g19fj3s6yzr4tm0000gn/T/ipykernel_4913/1354864879.py:3: UserWarning: color is redundantly defined by the 'color' keyword argument and the fmt string \"r\" (-> color=(1.0, 0.0, 0.0, 1)). The keyword argument will take precedence.\n",
      "  plt.plot(average_profit_list, std_profit_list, 'r', color = 'blue')\n"
     ]
    },
    {
     "data": {
      "image/png": "[encoded data removed]",
      "text/plain": [
       "<Figure size 432x288 with 1 Axes>"
      ]
     },
     "metadata": {
      "needs_background": "light"
     },
     "output_type": "display_data"
    }
   ],
   "source": [
    "plt.clf()\n",
    "\n",
    "plt.plot(average_profit_list, std_profit_list, 'r', color = 'blue')\n",
    "\n",
    "plt.axhline(y=0, color='black', linestyle='--')\n",
    "\n",
    "plt.title('Average Profit vs Std of profit')\n",
    "plt.xlabel('Average Profit (in million dollars) ')\n",
    "plt.ylabel('Std of profitn')\n",
    "\n",
    "plt.show()"
   ]
  },
  {
   "cell_type": "code",
   "execution_count": 25,
   "id": "58060c7f",
   "metadata": {},
   "outputs": [],
   "source": [
    "# create a dictionary with the lists\n",
    "data = {\n",
    "    'Price': price_list,\n",
    "    'Average Cost': average_cost_list,\n",
    "    'Average Market Bid': average_market_bid_list,\n",
    "    'Average Win': average_win_list,\n",
    "    'Average Profit': average_profit_list,\n",
    "    'Std Dev Profit': std_profit_list\n",
    "}\n",
    "\n",
    "# create a dataframe from the dictionary\n",
    "simulations = pd.DataFrame(data)\n",
    "\n",
    "# save the dataframe as a CSV file\n",
    "simulations.to_csv('simulations.csv', index=False)\n"
   ]
  },
  {
   "cell_type": "markdown",
   "id": "78d359d1",
   "metadata": {},
   "source": [
    "## Solving for maximum expected profit"
   ]
  },
  {
   "cell_type": "code",
   "execution_count": 26,
   "id": "7fe7eb94",
   "metadata": {},
   "outputs": [
    {
     "name": "stdout",
     "output_type": "stream",
     "text": [
      "Price for maximum profit: 1230000\n"
     ]
    }
   ],
   "source": [
    "# find the index of the maximum value in average_profit_list\n",
    "max_profit_index = np.argmax(average_profit_list)\n",
    "\n",
    "# retrieve the corresponding value from price_list\n",
    "price_for_max_profit = price_list[max_profit_index]\n",
    "\n",
    "print(\"Price for maximum profit:\", price_for_max_profit)\n"
   ]
  },
  {
   "cell_type": "code",
   "execution_count": 27,
   "id": "d3db702c",
   "metadata": {},
   "outputs": [
    {
     "name": "stdout",
     "output_type": "stream",
     "text": [
      "Win for maximum profit: 0.5128\n"
     ]
    }
   ],
   "source": [
    "# retrieve the corresponding value from average_win_list\n",
    "win_for_max_profit = average_win_list[max_profit_index]\n",
    "\n",
    "print(\"Win for maximum profit:\", win_for_max_profit)\n"
   ]
  },
  {
   "cell_type": "code",
   "execution_count": 28,
   "id": "f6fea617",
   "metadata": {},
   "outputs": [
    {
     "name": "stdout",
     "output_type": "stream",
     "text": [
      "Maximum profit: 102826.96525379959\n"
     ]
    }
   ],
   "source": [
    "profit_for_max_profit = average_profit_list[max_profit_index]\n",
    "\n",
    "print(\"Maximum profit:\", profit_for_max_profit)\n"
   ]
  },
  {
   "cell_type": "code",
   "execution_count": 29,
   "id": "f6a4604a",
   "metadata": {},
   "outputs": [],
   "source": [
    "price = price_for_max_profit\n",
    "\n",
    "np.random.seed(2)\n",
    "\n",
    "cost_list = []\n",
    "market_bid_list = []\n",
    "win_list = []\n",
    "profit_list = []\n",
    "\n",
    "for i in range(num_replications):\n",
    "    \n",
    "    #use triangular distribution for bid cost\n",
    "    bid_cost = np.random.triangular(min_bid_cost, mode_bid_cost, max_bid_cost, 1)\n",
    "\n",
    "    #use triangular distribution for project cost\n",
    "    pj_cost = np.random.triangular(min_pj_cost, mode_pj_cost, max_pj_cost, 1)\n",
    "    \n",
    "    # market conditions\n",
    "    num_rival = np.random.binomial(n_rival,p_rival) + 1\n",
    "    mkt_bid = min(np.random.triangular(min_rival_bid, mode_rival_bid, max_rival_bid, num_rival))\n",
    "    \n",
    "    # win or not \n",
    "    win = 0\n",
    "    if price < mkt_bid:\n",
    "        win = win + 1\n",
    "        total_cost = float(bid_cost + pj_cost)\n",
    "        profit = price - total_cost\n",
    "    else: \n",
    "        total_cost = float(bid_cost)\n",
    "        profit = - total_cost\n",
    "    \n",
    "    cost_list.append(total_cost)\n",
    "    market_bid_list.append(mkt_bid)\n",
    "    win_list.append(win)\n",
    "    profit_list.append(profit)"
   ]
  },
  {
   "cell_type": "code",
   "execution_count": 30,
   "id": "c8e6fda8",
   "metadata": {},
   "outputs": [
    {
     "data": {
      "text/plain": [
       "(array([4977.,    0.,    0.,    0.,  251.,  828., 1360., 1418.,  872.,\n",
       "         294.]),\n",
       " array([-19936.48290934,  13513.45901555,  46963.40094044,  80413.34286533,\n",
       "        113863.28479022, 147313.22671511, 180763.16864   , 214213.11056489,\n",
       "        247663.05248978, 281112.99441467, 314562.93633956]),\n",
       " <BarContainer object of 10 artists>)"
      ]
     },
     "execution_count": 30,
     "metadata": {},
     "output_type": "execute_result"
    },
    {
     "data": {
      "image/png": "[encoded data removed]",
      "text/plain": [
       "<Figure size 432x288 with 1 Axes>"
      ]
     },
     "metadata": {
      "needs_background": "light"
     },
     "output_type": "display_data"
    }
   ],
   "source": [
    "plt.hist(profit_list)"
   ]
  },
  {
   "cell_type": "code",
   "execution_count": 53,
   "id": "867be660",
   "metadata": {},
   "outputs": [
    {
     "data": {
      "text/plain": [
       "17126.165594751263"
      ]
     },
     "execution_count": 53,
     "metadata": {},
     "output_type": "execute_result"
    }
   ],
   "source": [
    "np.mean(profit_list)"
   ]
  },
  {
   "cell_type": "code",
   "execution_count": 31,
   "id": "e77fac44",
   "metadata": {},
   "outputs": [
    {
     "data": {
      "text/plain": [
       "0.5023"
      ]
     },
     "execution_count": 31,
     "metadata": {},
     "output_type": "execute_result"
    }
   ],
   "source": [
    "np.average(win_list)"
   ]
  },
  {
   "cell_type": "code",
   "execution_count": 32,
   "id": "659f8740",
   "metadata": {},
   "outputs": [
    {
     "data": {
      "text/plain": [
       "1243084.13843003"
      ]
     },
     "execution_count": 32,
     "metadata": {},
     "output_type": "execute_result"
    }
   ],
   "source": [
    "np.average(market_bid_list)"
   ]
  },
  {
   "cell_type": "code",
   "execution_count": 33,
   "id": "81ee406b",
   "metadata": {},
   "outputs": [
    {
     "data": {
      "text/plain": [
       "163249.17374204844"
      ]
     },
     "execution_count": 33,
     "metadata": {},
     "output_type": "execute_result"
    }
   ],
   "source": [
    "np.std(market_bid_list)"
   ]
  },
  {
   "cell_type": "code",
   "execution_count": 34,
   "id": "2ca5e2e9",
   "metadata": {},
   "outputs": [
    {
     "data": {
      "text/plain": [
       "(array([ 483., 1246., 1786., 2145., 1895., 1183.,  683.,  349.,  177.,\n",
       "          53.]),\n",
       " array([ 905558.26636206,  993976.59969293, 1082394.93302381,\n",
       "        1170813.26635468, 1259231.59968555, 1347649.93301643,\n",
       "        1436068.2663473 , 1524486.59967818, 1612904.93300905,\n",
       "        1701323.26633993, 1789741.5996708 ]),\n",
       " <BarContainer object of 10 artists>)"
      ]
     },
     "execution_count": 34,
     "metadata": {},
     "output_type": "execute_result"
    },
    {
     "data": {
      "image/png": "[encoded data removed]",
      "text/plain": [
       "<Figure size 432x288 with 1 Axes>"
      ]
     },
     "metadata": {
      "needs_background": "light"
     },
     "output_type": "display_data"
    }
   ],
   "source": [
    "plt.hist(market_bid_list)"
   ]
  },
  {
   "cell_type": "markdown",
   "id": "920aec8d",
   "metadata": {},
   "source": [
    "## Solving for expected chance of winning"
   ]
  },
  {
   "cell_type": "markdown",
   "id": "97c103b4",
   "metadata": {},
   "source": [
    "### Chances of winning close to 70%"
   ]
  },
  {
   "cell_type": "code",
   "execution_count": 35,
   "id": "8cb627da",
   "metadata": {},
   "outputs": [
    {
     "name": "stdout",
     "output_type": "stream",
     "text": [
      "The value from price_list that is closest to 0.70 in average_win_list is: 1146000\n"
     ]
    }
   ],
   "source": [
    "data = {\n",
    "    'Price': price_list,\n",
    "    'Average Cost': average_cost_list,\n",
    "    'Average Market Bid': average_market_bid_list,\n",
    "    'Average Win': average_win_list,\n",
    "    'Average Profit': average_profit_list\n",
    "}\n",
    "\n",
    "# create a dataframe from the dictionary\n",
    "df = pd.DataFrame(data)\n",
    "\n",
    "# find the index of the closest element to 0.70 in the Average Win column\n",
    "index = np.abs(df['Average Win'] - .70).idxmin()\n",
    "\n",
    "# extract the corresponding value from the price list\n",
    "price = price_list[index]\n",
    "\n",
    "print(\"The value from price_list that is closest to 0.70 in average_win_list is:\", price)\n"
   ]
  },
  {
   "cell_type": "code",
   "execution_count": 36,
   "id": "31d036da",
   "metadata": {},
   "outputs": [],
   "source": [
    "np.random.seed(2)\n",
    "\n",
    "cost_list = []\n",
    "market_bid_list = []\n",
    "win_list = []\n",
    "profit_list = []\n",
    "\n",
    "for i in range(num_replications):\n",
    "    \n",
    "    #use triangular distribution for bid cost\n",
    "    bid_cost = np.random.triangular(min_bid_cost, mode_bid_cost, max_bid_cost, 1)\n",
    "\n",
    "    #use triangular distribution for project cost\n",
    "    pj_cost = np.random.triangular(min_pj_cost, mode_pj_cost, max_pj_cost, 1)\n",
    "    \n",
    "    # market conditions\n",
    "    num_rival = np.random.binomial(n_rival,p_rival) + 1\n",
    "    mkt_bid = min(np.random.triangular(min_rival_bid, mode_rival_bid, max_rival_bid, num_rival))\n",
    "    \n",
    "    # win or not \n",
    "    win = 0\n",
    "    if price < mkt_bid:\n",
    "        win = win + 1\n",
    "        total_cost = float(bid_cost + pj_cost)\n",
    "        profit = price - total_cost\n",
    "    else: \n",
    "        total_cost = float(bid_cost)\n",
    "        profit = - total_cost\n",
    "    \n",
    "    cost_list.append(total_cost)\n",
    "    market_bid_list.append(mkt_bid)\n",
    "    win_list.append(win)\n",
    "    profit_list.append(profit)"
   ]
  },
  {
   "cell_type": "code",
   "execution_count": 37,
   "id": "7866aad0",
   "metadata": {},
   "outputs": [
    {
     "data": {
      "text/plain": [
       "(array([2939.,    0.,  206.,  649., 1094., 1515., 1565., 1101.,  694.,\n",
       "         237.]),\n",
       " array([-19936.48290934,   5113.45901555,  30163.40094044,  55213.34286533,\n",
       "         80263.28479022, 105313.22671511, 130363.16864   , 155413.11056489,\n",
       "        180463.05248978, 205512.99441467, 230562.93633956]),\n",
       " <BarContainer object of 10 artists>)"
      ]
     },
     "execution_count": 37,
     "metadata": {},
     "output_type": "execute_result"
    },
    {
     "data": {
      "image/png": "[encoded data removed]",
      "text/plain": [
       "<Figure size 432x288 with 1 Axes>"
      ]
     },
     "metadata": {
      "needs_background": "light"
     },
     "output_type": "display_data"
    }
   ],
   "source": [
    "plt.hist(profit_list)"
   ]
  },
  {
   "cell_type": "code",
   "execution_count": 38,
   "id": "45f3f345",
   "metadata": {},
   "outputs": [
    {
     "data": {
      "text/plain": [
       "88242.16424594849"
      ]
     },
     "execution_count": 38,
     "metadata": {},
     "output_type": "execute_result"
    }
   ],
   "source": [
    "np.average(profit_list)"
   ]
  },
  {
   "cell_type": "code",
   "execution_count": 39,
   "id": "25f3952d",
   "metadata": {},
   "outputs": [
    {
     "data": {
      "text/plain": [
       "0.7061"
      ]
     },
     "execution_count": 39,
     "metadata": {},
     "output_type": "execute_result"
    }
   ],
   "source": [
    "np.average(win_list)"
   ]
  },
  {
   "cell_type": "markdown",
   "id": "3f2b2041",
   "metadata": {},
   "source": [
    "### Chances of winning close to 80%"
   ]
  },
  {
   "cell_type": "code",
   "execution_count": 40,
   "id": "a3bfcfa6",
   "metadata": {},
   "outputs": [
    {
     "name": "stdout",
     "output_type": "stream",
     "text": [
      "The value from price_list that is closest to 0.80 in average_win_list is: 1099000\n"
     ]
    }
   ],
   "source": [
    "data = {\n",
    "    'Price': price_list,\n",
    "    'Average Cost': average_cost_list,\n",
    "    'Average Market Bid': average_market_bid_list,\n",
    "    'Average Win': average_win_list,\n",
    "    'Average Profit': average_profit_list\n",
    "}\n",
    "\n",
    "# create a dataframe from the dictionary\n",
    "df = pd.DataFrame(data)\n",
    "\n",
    "# find the index of the closest element to 0.80 in the Average Win column\n",
    "index = np.abs(df['Average Win'] - .80).idxmin()\n",
    "\n",
    "# extract the corresponding value from the price list\n",
    "price = price_list[index]\n",
    "\n",
    "print(\"The value from price_list that is closest to 0.80 in average_win_list is:\", price)\n"
   ]
  },
  {
   "cell_type": "code",
   "execution_count": 41,
   "id": "d04caa7c",
   "metadata": {},
   "outputs": [],
   "source": [
    "np.random.seed(2)\n",
    "\n",
    "cost_list = []\n",
    "market_bid_list = []\n",
    "win_list = []\n",
    "profit_list = []\n",
    "\n",
    "for i in range(num_replications):\n",
    "    \n",
    "    #use triangular distribution for bid cost\n",
    "    bid_cost = np.random.triangular(min_bid_cost, mode_bid_cost, max_bid_cost, 1)\n",
    "\n",
    "    #use triangular distribution for project cost\n",
    "    pj_cost = np.random.triangular(min_pj_cost, mode_pj_cost, max_pj_cost, 1)\n",
    "    \n",
    "    # market conditions\n",
    "    num_rival = np.random.binomial(n_rival,p_rival) + 1\n",
    "    mkt_bid = min(np.random.triangular(min_rival_bid, mode_rival_bid, max_rival_bid, num_rival))\n",
    "    \n",
    "    # win or not \n",
    "    win = 0\n",
    "    if price < mkt_bid:\n",
    "        win = win + 1\n",
    "        total_cost = float(bid_cost + pj_cost)\n",
    "        profit = price - total_cost\n",
    "    else: \n",
    "        total_cost = float(bid_cost)\n",
    "        profit = - total_cost\n",
    "    \n",
    "    cost_list.append(total_cost)\n",
    "    market_bid_list.append(mkt_bid)\n",
    "    win_list.append(win)\n",
    "    profit_list.append(profit)"
   ]
  },
  {
   "cell_type": "code",
   "execution_count": 42,
   "id": "69e661e9",
   "metadata": {},
   "outputs": [
    {
     "data": {
      "text/plain": [
       "(array([2137.,  464.,  765., 1080., 1399., 1500., 1142.,  826.,  531.,\n",
       "         156.]),\n",
       " array([-19936.48290934,    413.45901555,  20763.40094044,  41113.34286533,\n",
       "         61463.28479022,  81813.22671511, 102163.16864   , 122513.11056489,\n",
       "        142863.05248978, 163212.99441467, 183562.93633956]),\n",
       " <BarContainer object of 10 artists>)"
      ]
     },
     "execution_count": 42,
     "metadata": {},
     "output_type": "execute_result"
    },
    {
     "data": {
      "image/png": "[encoded data removed]",
      "text/plain": [
       "<Figure size 432x288 with 1 Axes>"
      ]
     },
     "metadata": {
      "needs_background": "light"
     },
     "output_type": "display_data"
    }
   ],
   "source": [
    "plt.hist(profit_list)"
   ]
  },
  {
   "cell_type": "code",
   "execution_count": 43,
   "id": "c31f11c3",
   "metadata": {},
   "outputs": [
    {
     "data": {
      "text/plain": [
       "63670.48769476881"
      ]
     },
     "execution_count": 43,
     "metadata": {},
     "output_type": "execute_result"
    }
   ],
   "source": [
    "np.average(profit_list)"
   ]
  },
  {
   "cell_type": "code",
   "execution_count": 44,
   "id": "4e09d900",
   "metadata": {},
   "outputs": [
    {
     "data": {
      "text/plain": [
       "0.7955"
      ]
     },
     "execution_count": 44,
     "metadata": {},
     "output_type": "execute_result"
    }
   ],
   "source": [
    "np.average(win_list)"
   ]
  },
  {
   "cell_type": "markdown",
   "id": "adbf0c2f",
   "metadata": {},
   "source": [
    "### Chances of winning close to 90%"
   ]
  },
  {
   "cell_type": "code",
   "execution_count": 45,
   "id": "759ccbe0",
   "metadata": {},
   "outputs": [
    {
     "name": "stdout",
     "output_type": "stream",
     "text": [
      "The value from price_list that is closest to 0.90 in average_win_list is: 1036000\n"
     ]
    }
   ],
   "source": [
    "data = {\n",
    "    'Price': price_list,\n",
    "    'Average Cost': average_cost_list,\n",
    "    'Average Market Bid': average_market_bid_list,\n",
    "    'Average Win': average_win_list,\n",
    "    'Average Profit': average_profit_list\n",
    "}\n",
    "\n",
    "# create a dataframe from the dictionary\n",
    "df = pd.DataFrame(data)\n",
    "\n",
    "# find the index of the closest element to 0.90 in the Average Win column\n",
    "index = np.abs(df['Average Win'] - .90).idxmin()\n",
    "\n",
    "# extract the corresponding value from the price list\n",
    "price = price_list[index]\n",
    "\n",
    "print(\"The value from price_list that is closest to 0.90 in average_win_list is:\", price)\n"
   ]
  },
  {
   "cell_type": "code",
   "execution_count": 46,
   "id": "2fc1f145",
   "metadata": {},
   "outputs": [],
   "source": [
    "np.random.seed(2)\n",
    "\n",
    "cost_list = []\n",
    "market_bid_list = []\n",
    "win_list = []\n",
    "profit_list = []\n",
    "\n",
    "for i in range(num_replications):\n",
    "    \n",
    "    #use triangular distribution for bid cost\n",
    "    bid_cost = np.random.triangular(min_bid_cost, mode_bid_cost, max_bid_cost, 1)\n",
    "\n",
    "    #use triangular distribution for project cost\n",
    "    pj_cost = np.random.triangular(min_pj_cost, mode_pj_cost, max_pj_cost, 1)\n",
    "    \n",
    "    # market conditions\n",
    "    num_rival = np.random.binomial(n_rival,p_rival) + 1\n",
    "    mkt_bid = min(np.random.triangular(min_rival_bid, mode_rival_bid, max_rival_bid, num_rival))\n",
    "    \n",
    "    # win or not \n",
    "    win = 0\n",
    "    if price < mkt_bid:\n",
    "        win = win + 1\n",
    "        total_cost = float(bid_cost + pj_cost)\n",
    "        profit = price - total_cost\n",
    "    else: \n",
    "        total_cost = float(bid_cost)\n",
    "        profit = - total_cost\n",
    "    \n",
    "    cost_list.append(total_cost)\n",
    "    market_bid_list.append(mkt_bid)\n",
    "    win_list.append(win)\n",
    "    profit_list.append(profit)"
   ]
  },
  {
   "cell_type": "code",
   "execution_count": 47,
   "id": "5355575c",
   "metadata": {},
   "outputs": [
    {
     "data": {
      "text/plain": [
       "(array([ 158.,  575.,  904., 2236., 1587., 1662., 1236.,  912.,  559.,\n",
       "         171.]),\n",
       " array([-79515.86993246, -59507.98930525, -39500.10867805, -19492.22805085,\n",
       "           515.65257635,  20523.53320355,  40531.41383076,  60539.29445796,\n",
       "         80547.17508516, 100555.05571236, 120562.93633956]),\n",
       " <BarContainer object of 10 artists>)"
      ]
     },
     "execution_count": 47,
     "metadata": {},
     "output_type": "execute_result"
    },
    {
     "data": {
      "image/png": "[encoded data removed]",
      "text/plain": [
       "<Figure size 432x288 with 1 Axes>"
      ]
     },
     "metadata": {
      "needs_background": "light"
     },
     "output_type": "display_data"
    }
   ],
   "source": [
    "plt.hist(profit_list)"
   ]
  },
  {
   "cell_type": "code",
   "execution_count": 48,
   "id": "82de5085",
   "metadata": {},
   "outputs": [
    {
     "data": {
      "text/plain": [
       "17126.165594751263"
      ]
     },
     "execution_count": 48,
     "metadata": {},
     "output_type": "execute_result"
    }
   ],
   "source": [
    "np.average(profit_list)"
   ]
  },
  {
   "cell_type": "code",
   "execution_count": 49,
   "id": "1f7609af",
   "metadata": {},
   "outputs": [
    {
     "data": {
      "text/plain": [
       "0.9004"
      ]
     },
     "execution_count": 49,
     "metadata": {},
     "output_type": "execute_result"
    }
   ],
   "source": [
    "np.average(win_list)"
   ]
  },
  {
   "cell_type": "code",
   "execution_count": null,
   "id": "1bbc4f92",
   "metadata": {},
   "outputs": [],
   "source": []
  }
 ],
 "metadata": {
  "kernelspec": {
   "display_name": "Python 3 (ipykernel)",
   "language": "python",
   "name": "python3"
  },
  "language_info": {
   "codemirror_mode": {
    "name": "ipython",
    "version": 3
   },
   "file_extension": ".py",
   "mimetype": "text/x-python",
   "name": "python",
   "nbconvert_exporter": "python",
   "pygments_lexer": "ipython3",
   "version": "3.9.12"
  }
 },
 "nbformat": 4,
 "nbformat_minor": 5
}
